{
 "cells": [
  {
   "cell_type": "code",
   "execution_count": 3,
   "id": "b16a853f",
   "metadata": {},
   "outputs": [],
   "source": [
    "import numpy as np\n",
    "import matplotlib.pyplot as plt\n",
    "import scipy.stats as stats"
   ]
  },
  {
   "cell_type": "code",
   "execution_count": 4,
   "id": "02dfa6f9",
   "metadata": {},
   "outputs": [],
   "source": [
    "def compute_r(R0, N=1000):\n",
    "    \"\"\"Theoretical final size.\"\"\"\n",
    "    upper_r = 1\n",
    "    lower_r = 0\n",
    "    for T in range(100000):\n",
    "        r = (upper_r + lower_r)/2\n",
    "        r_ = (1 - np.exp(-R0 * r))\n",
    "        if r_ < r:\n",
    "            upper_r = r\n",
    "        else:\n",
    "            lower_r = r\n",
    "    return r*N"
   ]
  },
  {
   "cell_type": "code",
   "execution_count": 5,
   "id": "08160a1e",
   "metadata": {},
   "outputs": [],
   "source": [
    "# parameters\n",
    "def simulate(\n",
    "    dt = 0.01,\n",
    "    start = 0.001,\n",
    "    buckets = 100,\n",
    "    beta_params = (1, 1),\n",
    "    N = 1000,\n",
    "    gamma = 1,\n",
    "    alpha_r = 0.000,\n",
    "    alpha_c = 0.002):\n",
    "    \"\"\" \n",
    "    Simulates an epidemic using integro-differential equations\n",
    "    returns final pandemic size\n",
    "    \"\"\"\n",
    "    X = np.linspace(0, 1, buckets)\n",
    "    \n",
    "    Ss, Is, Rs = []\n",
    "\n",
    "    # multiplies by the beta distribution to initialize\n",
    "    # if this is confusing later, could loop through instead\n",
    "    S = np.zeros(buckets) + (N/buckets)*(1 - start/N)*stats.beta.pdf(X, beta_params[0], beta_params[1])\n",
    "    I = np.zeros(buckets) + (N/buckets)*(start/N)*stats.beta.pdf(X, beta_params[0], beta_params[1])\n",
    "    R = np.zeros(buckets)\n",
    "\n",
    "    while sum(I) > start/2:\n",
    "        # compute both changes up front, then use them to iterate\n",
    "\n",
    "        recoveries = I * gamma * dt\n",
    "\n",
    "        # this one requires iterating over the values of p\n",
    "        new_infections = np.zeros(buckets)\n",
    "\n",
    "        zero_moment_I = 0.0\n",
    "        first_moment_I = 0.0\n",
    "        for b in range(buckets):\n",
    "            p = (1.0 / buckets) * (b + 0.5)\n",
    "            zero_moment_I += I[b]\n",
    "            first_moment_I += p * I[b]\n",
    "\n",
    "        for b in range(buckets):\n",
    "            # p is for the middle of the bucket:\n",
    "            p = (1.0 / buckets) * (b + 0.5)\n",
    "            new_infections[b] = S[b] * zero_moment_I * alpha_c + p * S[b] * first_moment_I * alpha_r\n",
    "\n",
    "        S -= dt * new_infections\n",
    "        I += dt * new_infections\n",
    "        I -= recoveries\n",
    "        R += recoveries\n",
    "\n",
    "    return sum(R)"
   ]
  },
  {
   "cell_type": "code",
   "execution_count": 6,
   "id": "64a92245",
   "metadata": {},
   "outputs": [
    {
     "data": {
      "text/plain": [
       "[<matplotlib.lines.Line2D at 0x150398700>]"
      ]
     },
     "execution_count": 6,
     "metadata": {},
     "output_type": "execute_result"
    },
    {
     "data": {
      "image/png": "[encoded data removed]",
      "text/plain": [
       "<Figure size 432x288 with 1 Axes>"
      ]
     },
     "metadata": {
      "needs_background": "light"
     },
     "output_type": "display_data"
    }
   ],
   "source": [
    "# Simulates for varying alpha_c\n",
    "X = np.linspace(0.001, 0.008, 20)\n",
    "Y = [simulate(alpha_c = x, beta_params=(2, 6)) for x in X]\n",
    "Y2 = [compute_r(x*1000) for x in X]\n",
    "plt.plot(X, Y)\n",
    "plt.plot(X, Y2, '--')"
   ]
  },
  {
   "cell_type": "code",
   "execution_count": 148,
   "id": "cb77cf9d",
   "metadata": {},
   "outputs": [
    {
     "data": {
      "text/plain": [
       "[<matplotlib.lines.Line2D at 0x13eaec550>]"
      ]
     },
     "execution_count": 148,
     "metadata": {},
     "output_type": "execute_result"
    },
    {
     "data": {
      "image/png": "[encoded data removed]",
      "text/plain": [
       "<Figure size 432x288 with 1 Axes>"
      ]
     },
     "metadata": {
      "needs_background": "light"
     },
     "output_type": "display_data"
    }
   ],
   "source": [
    "# Simulates for varying alpha_c\n",
    "X = np.linspace(0.001, 0.008, 100)\n",
    "Y = [simulate(alpha_c = x) for x in X]\n",
    "Y2 = [compute_r(x*1000) for x in X]\n",
    "plt.plot(X, Y)\n",
    "plt.plot(X, Y2, '--')"
   ]
  },
  {
   "cell_type": "code",
   "execution_count": 198,
   "id": "d82189b9",
   "metadata": {},
   "outputs": [
    {
     "data": {
      "text/plain": [
       "array([0.        , 0.20512821, 0.41025641, 0.61538462, 0.82051282,\n",
       "       1.02564103, 1.23076923, 1.43589744, 1.64102564, 1.84615385,\n",
       "       2.05128205, 2.25641026, 2.46153846, 2.66666667, 2.87179487,\n",
       "       3.07692308, 3.28205128, 3.48717949, 3.69230769, 3.8974359 ,\n",
       "       4.1025641 , 4.30769231, 4.51282051, 4.71794872, 4.92307692,\n",
       "       5.12820513, 5.33333333, 5.53846154, 5.74358974, 5.94871795,\n",
       "       6.15384615, 6.35897436, 6.56410256, 6.76923077, 6.97435897,\n",
       "       7.17948718, 7.38461538, 7.58974359, 7.79487179, 8.        ])"
      ]
     },
     "execution_count": 198,
     "metadata": {},
     "output_type": "execute_result"
    }
   ],
   "source": []
  },
  {
   "cell_type": "code",
   "execution_count": 201,
   "id": "748136e3",
   "metadata": {},
   "outputs": [
    {
     "name": "stderr",
     "output_type": "stream",
     "text": [
      "/var/folders/f0/jtfp47nd0h74_sbtnbwhqzgm0000gn/T/ipykernel_6006/2312418805.py:41: RuntimeWarning: invalid value encountered in double_scalars\n",
      "  new_infections[b] = S[b] * zero_moment_I * alpha_c + p * S[b] * first_moment_I * alpha_r\n",
      "/var/folders/f0/jtfp47nd0h74_sbtnbwhqzgm0000gn/T/ipykernel_6006/2312418805.py:43: RuntimeWarning: invalid value encountered in subtract\n",
      "  S -= dt * new_infections\n",
      "/var/folders/f0/jtfp47nd0h74_sbtnbwhqzgm0000gn/T/ipykernel_6006/2312418805.py:45: RuntimeWarning: invalid value encountered in subtract\n",
      "  I -= recoveries\n"
     ]
    },
    {
     "name": "stdout",
     "output_type": "stream",
     "text": [
      "[inf, inf, inf, inf, inf, inf, inf, inf, inf, inf, inf, inf, inf, inf, inf, inf, inf, inf, inf, inf, inf, inf, inf, inf, inf, inf, inf, inf, inf, inf, inf, inf, inf, inf, inf, inf, inf, inf, inf, inf]\n",
      "[1004.7636659496596, 1004.7634332609231, 1004.7623024083299, 1004.7602225523195, 1004.7571332567377, 1004.7529633048049, 1004.7476293249345, 1004.7410341968315, 1004.7330652034752, 1004.7235918888102, 1004.7124635743174, 1004.6995064798176, 1004.6845153857004, 1004.6672697594702, 1004.6474992574757, 1004.6248985147802, 1004.5991160846756, 1004.5697474005615, 1004.5363265955884, 1004.4983169907387, 1004.4551000301349, 1004.4059624053943, 1004.3500810677339, 1004.2865057766517, 1004.2141387762526, 1004.1317111239038, 1004.0377551197774, 1003.9305721993331, 1003.8082005612591, 1003.6683516482763, 1003.5083895902724, 1003.3252524496946, 1003.1153940851789, 1002.8746852407012, 1002.5983524251876, 1002.2808580313306, 1001.9157649952614, 1001.4956345863185, 1001.0118308837033, 1000.4543859940446]\n",
      "[989.3255491434678, 989.3248281306385, 989.3235846490517, 989.321798690398, 989.3194472918165, 989.3165042765298, 989.3129399618683, 989.3087208307898, 989.3038091625397, 989.2981626174982, 989.2917337706098, 989.2844695870523, 989.2763108329789, 989.2671914131655, 989.2570376263817, 989.245767328008, 989.2332889880479, 989.219500631107, 989.2042886430856, 989.1875264272519, 989.1690728900968, 989.1487707346276, 989.126444535801, 989.1018985693463, 989.0749143613313, 989.0452479214235, 989.0126266177721, 988.9767456458065, 988.9372640367926, 988.8938001448043, 988.8459315446962, 988.7931692543598, 988.734981202137, 988.6707648393542, 988.5998437754893, 988.5214583165362, 988.4347547626737, 988.3387733066727, 988.232439361458, 988.1145281040453]\n",
      "[inf, inf, inf, inf, inf, inf, inf, inf, inf, inf, inf, inf, inf, inf, inf, inf, inf, inf, inf, inf, inf, inf, inf, inf, inf, inf, inf, inf, inf, inf, inf, inf, inf, inf, inf, inf, inf, inf, inf, inf]\n"
     ]
    },
    {
     "name": "stderr",
     "output_type": "stream",
     "text": [
      "/var/folders/f0/jtfp47nd0h74_sbtnbwhqzgm0000gn/T/ipykernel_6006/2312418805.py:41: RuntimeWarning: invalid value encountered in double_scalars\n",
      "  new_infections[b] = S[b] * zero_moment_I * alpha_c + p * S[b] * first_moment_I * alpha_r\n",
      "/var/folders/f0/jtfp47nd0h74_sbtnbwhqzgm0000gn/T/ipykernel_6006/2312418805.py:43: RuntimeWarning: invalid value encountered in subtract\n",
      "  S -= dt * new_infections\n",
      "/var/folders/f0/jtfp47nd0h74_sbtnbwhqzgm0000gn/T/ipykernel_6006/2312418805.py:45: RuntimeWarning: invalid value encountered in subtract\n",
      "  I -= recoveries\n"
     ]
    },
    {
     "name": "stdout",
     "output_type": "stream",
     "text": [
      "[999.7023873483136, 999.7001721009951, 999.6934670079012, 999.6820930935626, 999.6657464043739, 999.643983403514, 999.6162271140697, 999.5817184915584, 999.5395124596929, 999.4884426985492, 999.4270791779114, 999.3537020907365, 999.2662156065265, 999.1620994523029, 999.0383208711679, 998.8912290293317, 998.7164532723542, 998.5087308960037, 998.261729175881, 997.9678553124328, 997.6179817539145, 997.2011178617902, 996.7040672150546, 996.1109382997215, 995.4026243171888, 994.5561265064437, 993.5438142513489, 992.332475928622, 990.8822719033843, 989.1455085407421, 987.0652410609035, 984.5738136058246, 981.5912869338796, 978.0240158723922, 973.7635617560321, 968.686291216899, 962.6542723614286, 955.5181335630178, 947.1227805970918, 937.3167415214485]\n",
      "[989.5786284804046, 989.57725667381, 989.5731161333343, 989.5661312732718, 989.5561693912356, 989.5430576646227, 989.5265488628377, 989.5063356412076, 989.4820382697377, 989.4531956024991, 989.4192540444727, 989.3795542184528, 989.3333099789384, 989.2796093011247, 989.2173615992266, 989.1452907820119, 989.06189834106, 988.9654255912249, 988.8538090268055, 988.724627570345, 988.5750402741551, 988.4017127852654, 988.2007306002951, 987.9674968175271, 987.6966167467909, 987.3817363490825, 987.0154110754689, 986.5888714503949, 986.0918361361603, 985.5122135043356, 984.8358174702144, 984.0460141666723, 983.1233272645046, 982.0449971706803, 980.7844983998965, 979.311025823357, 977.5889701345445, 975.577416738711, 973.2297163455804, 970.4932303513759]\n",
      "[inf, inf, inf, inf, inf, inf, inf, inf, inf, inf, inf, inf, inf, inf, inf, inf, inf, inf, inf, inf, inf, inf, inf, inf, inf, inf, inf, inf, inf, inf, inf, inf, inf, inf, inf, inf, inf, inf, inf, inf]\n"
     ]
    },
    {
     "name": "stderr",
     "output_type": "stream",
     "text": [
      "/var/folders/f0/jtfp47nd0h74_sbtnbwhqzgm0000gn/T/ipykernel_6006/2312418805.py:41: RuntimeWarning: invalid value encountered in double_scalars\n",
      "  new_infections[b] = S[b] * zero_moment_I * alpha_c + p * S[b] * first_moment_I * alpha_r\n",
      "/var/folders/f0/jtfp47nd0h74_sbtnbwhqzgm0000gn/T/ipykernel_6006/2312418805.py:43: RuntimeWarning: invalid value encountered in subtract\n",
      "  S -= dt * new_infections\n",
      "/var/folders/f0/jtfp47nd0h74_sbtnbwhqzgm0000gn/T/ipykernel_6006/2312418805.py:45: RuntimeWarning: invalid value encountered in subtract\n",
      "  I -= recoveries\n"
     ]
    },
    {
     "ename": "KeyboardInterrupt",
     "evalue": "",
     "output_type": "error",
     "traceback": [
      "\u001b[0;31m---------------------------------------------------------------------------\u001b[0m",
      "\u001b[0;31mKeyboardInterrupt\u001b[0m                         Traceback (most recent call last)",
      "Input \u001b[0;32mIn [201]\u001b[0m, in \u001b[0;36m<cell line: 6>\u001b[0;34m()\u001b[0m\n\u001b[1;32m     15\u001b[0m     alpha_r \u001b[38;5;241m=\u001b[39m (R0 \u001b[38;5;241m-\u001b[39m alpha_c)\u001b[38;5;241m/\u001b[39m(mean_p\u001b[38;5;241m*\u001b[39m\u001b[38;5;241m*\u001b[39m\u001b[38;5;241m2\u001b[39m)\n\u001b[1;32m     16\u001b[0m     \u001b[38;5;66;03m#print(f'\\r{beta_params}, {alpha_c}, {alpha_r}', end='')\u001b[39;00m\n\u001b[0;32m---> 17\u001b[0m     series\u001b[38;5;241m.\u001b[39mappend(\u001b[43msimulate\u001b[49m\u001b[43m(\u001b[49m\u001b[43mbeta_params\u001b[49m\u001b[38;5;241;43m=\u001b[39;49m\u001b[43mbeta_params\u001b[49m\u001b[43m,\u001b[49m\u001b[43m \u001b[49m\u001b[43malpha_c\u001b[49m\u001b[38;5;241;43m=\u001b[39;49m\u001b[43malpha_c\u001b[49m\u001b[38;5;241;43m/\u001b[39;49m\u001b[43mN\u001b[49m\u001b[43m,\u001b[49m\u001b[43m \u001b[49m\u001b[43malpha_r\u001b[49m\u001b[38;5;241;43m=\u001b[39;49m\u001b[43malpha_r\u001b[49m\u001b[38;5;241;43m/\u001b[39;49m\u001b[43mN\u001b[49m\u001b[43m)\u001b[49m)\n\u001b[1;32m     18\u001b[0m \u001b[38;5;28mprint\u001b[39m(series)\n\u001b[1;32m     19\u001b[0m plt\u001b[38;5;241m.\u001b[39mplot(\u001b[38;5;241m8\u001b[39m \u001b[38;5;241m-\u001b[39m alpha_cs, series, label\u001b[38;5;241m=\u001b[39mbeta_params)\n",
      "Input \u001b[0;32mIn [190]\u001b[0m, in \u001b[0;36msimulate\u001b[0;34m(dt, start, buckets, beta_params, N, gamma, alpha_r, alpha_c)\u001b[0m\n\u001b[1;32m     34\u001b[0m     p \u001b[38;5;241m=\u001b[39m (\u001b[38;5;241m1.0\u001b[39m \u001b[38;5;241m/\u001b[39m buckets) \u001b[38;5;241m*\u001b[39m (b \u001b[38;5;241m+\u001b[39m \u001b[38;5;241m0.5\u001b[39m)\n\u001b[1;32m     35\u001b[0m     zero_moment_I \u001b[38;5;241m+\u001b[39m\u001b[38;5;241m=\u001b[39m I[b]\n\u001b[0;32m---> 36\u001b[0m     first_moment_I \u001b[38;5;241m+\u001b[39m\u001b[38;5;241m=\u001b[39m \u001b[43mp\u001b[49m\u001b[43m \u001b[49m\u001b[38;5;241;43m*\u001b[39;49m\u001b[43m \u001b[49m\u001b[43mI\u001b[49m\u001b[43m[\u001b[49m\u001b[43mb\u001b[49m\u001b[43m]\u001b[49m\n\u001b[1;32m     38\u001b[0m \u001b[38;5;28;01mfor\u001b[39;00m b \u001b[38;5;129;01min\u001b[39;00m \u001b[38;5;28mrange\u001b[39m(buckets):\n\u001b[1;32m     39\u001b[0m     \u001b[38;5;66;03m# p is for the middle of the bucket:\u001b[39;00m\n\u001b[1;32m     40\u001b[0m     p \u001b[38;5;241m=\u001b[39m (\u001b[38;5;241m1.0\u001b[39m \u001b[38;5;241m/\u001b[39m buckets) \u001b[38;5;241m*\u001b[39m (b \u001b[38;5;241m+\u001b[39m \u001b[38;5;241m0.5\u001b[39m)\n",
      "\u001b[0;31mKeyboardInterrupt\u001b[0m: "
     ]
    },
    {
     "data": {
      "image/png": "[encoded data removed]",
      "text/plain": [
       "<Figure size 432x288 with 1 Axes>"
      ]
     },
     "metadata": {
      "needs_background": "light"
     },
     "output_type": "display_data"
    }
   ],
   "source": [
    "# Simulates for fixed R0\n",
    "alpha_cs = np.linspace(8.0, 0.0, 40)\n",
    "R0 = 8\n",
    "N = 1000\n",
    "for row in [\n",
    "    [(0.3, 0.1), (3, 1), (6, 2)],\n",
    "    [(0.1, 0.1), (1, 1), (2, 2)],\n",
    "    [(0.1, 0.3), (1, 3), (2, 6)]]:\n",
    "    for beta_params in row:\n",
    "        mean_p = (beta_params[0]/(beta_params[0] + beta_params[1]))\n",
    "        series = []\n",
    "        for alpha_c in alpha_cs:\n",
    "            # compute alpha_r using the following (weighting by N):\n",
    "            # R0 = alpha_c + alpha_r * E[p]^2\n",
    "            alpha_r = (R0 - alpha_c)/(mean_p**2)\n",
    "            #print(f'\\r{beta_params}, {alpha_c}, {alpha_r}', end='')\n",
    "            series.append(simulate(beta_params=beta_params, alpha_c=alpha_c/N, alpha_r=alpha_r/N))\n",
    "        plt.plot(8 - alpha_cs, series, label=beta_params)\n",
    "plt.legend()"
   ]
  },
  {
   "cell_type": "code",
   "execution_count": 180,
   "id": "53431e8f",
   "metadata": {},
   "outputs": [
    {
     "data": {
      "text/plain": [
       "100"
      ]
     },
     "execution_count": 180,
     "metadata": {},
     "output_type": "execute_result"
    },
    {
     "data": {
      "image/png": "[encoded data removed]",
      "text/plain": [
       "<Figure size 432x288 with 1 Axes>"
      ]
     },
     "metadata": {
      "needs_background": "light"
     },
     "output_type": "display_data"
    }
   ],
   "source": [
    "x = np.linspace(0, 1, 100)\n",
    "plt.plot(x, stats.beta.pdf(x, 2, 6))\n",
    "\n",
    "\n",
    "len(stats.beta.pdf(x, 2, 6))"
   ]
  },
  {
   "cell_type": "code",
   "execution_count": null,
   "id": "92b9d6d5",
   "metadata": {},
   "outputs": [],
   "source": []
  }
 ],
 "metadata": {
  "kernelspec": {
   "display_name": "Python 3 (ipykernel)",
   "language": "python",
   "name": "python3"
  },
  "language_info": {
   "codemirror_mode": {
    "name": "ipython",
    "version": 3
   },
   "file_extension": ".py",
   "mimetype": "text/x-python",
   "name": "python",
   "nbconvert_exporter": "python",
   "pygments_lexer": "ipython3",
   "version": "3.9.12"
  }
 },
 "nbformat": 4,
 "nbformat_minor": 5
}
