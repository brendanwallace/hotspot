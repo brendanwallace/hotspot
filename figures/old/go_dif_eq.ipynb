{
 "cells": [
  {
   "cell_type": "code",
   "execution_count": 5,
   "id": "f2a2ea99",
   "metadata": {},
   "outputs": [],
   "source": [
    "import (\n",
    "    \"fmt\"\n",
    ")"
   ]
  },
  {
   "cell_type": "code",
   "execution_count": 43,
   "id": "b43820d1",
   "metadata": {},
   "outputs": [],
   "source": [
    "func sum(population []float64) float64 {\n",
    "    s := 0.0\n",
    "    for _, p := range population {\n",
    "        s += p\n",
    "    }\n",
    "    return s\n",
    "}"
   ]
  },
  {
   "cell_type": "code",
   "execution_count": 32,
   "id": "2eab071d",
   "metadata": {},
   "outputs": [],
   "source": [
    "// parameters\n",
    "const dt = 0.001\n",
    "const initial_infecteds = 1.0\n",
    "const buckets = 100\n",
    "const N = 1000.0\n",
    "const gamma = 1.0\n",
    "const alpha_r = 0.000\n",
    "const alpha_c = 0.002"
   ]
  },
  {
   "cell_type": "code",
   "execution_count": 37,
   "id": "21f23328",
   "metadata": {},
   "outputs": [],
   "source": [
    "\n",
    "S := make([]float64, buckets)\n",
    "I := make([]float64, buckets)\n",
    "R := make([]float64, buckets)\n",
    "\n",
    "// initialize the populations\n",
    "for b := 0; b < buckets; b++ {\n",
    "    S[b] = N * (1 - initial_infecteds/N) / buckets\n",
    "    I[b] = initial_infecteds/N/buckets\n",
    "}"
   ]
  },
  {
   "cell_type": "code",
   "execution_count": 44,
   "id": "03376a1f",
   "metadata": {},
   "outputs": [
    {
     "ename": "ERROR",
     "evalue": "cannot convert untyped constant {float64 1/1000} to <[]float64>",
     "output_type": "error",
     "traceback": [
      "cannot convert untyped constant {float64 1/1000} to <[]float64>"
     ]
    }
   ],
   "source": [
    "for sum(I) > 0.001 {\n",
    "    recoveries := gamma * dt * I\n",
    "}"
   ]
  },
  {
   "cell_type": "code",
   "execution_count": null,
   "id": "8931bf4b",
   "metadata": {},
   "outputs": [],
   "source": []
  }
 ],
 "metadata": {
  "kernelspec": {
   "display_name": "Go",
   "language": "go",
   "name": "gophernotes"
  },
  "language_info": {
   "codemirror_mode": "",
   "file_extension": ".go",
   "mimetype": "",
   "name": "go",
   "nbconvert_exporter": "",
   "pygments_lexer": "",
   "version": "go1.17.6"
  }
 },
 "nbformat": 4,
 "nbformat_minor": 5
}
