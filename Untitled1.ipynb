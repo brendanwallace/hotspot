{
 "cells": [
  {
   "cell_type": "code",
   "execution_count": 1,
   "id": "5f210e08-44be-42b6-b2fa-b12417161f17",
   "metadata": {},
   "outputs": [],
   "source": [
    "import numpy as np"
   ]
  },
  {
   "cell_type": "code",
   "execution_count": 2,
   "id": "e7786901-1d81-4145-ac53-7d4a00810832",
   "metadata": {},
   "outputs": [],
   "source": [
    "a = 12/100**4"
   ]
  },
  {
   "cell_type": "code",
   "execution_count": 6,
   "id": "5a4397b2-6ba2-42dc-bb0b-08d060ae912b",
   "metadata": {},
   "outputs": [
    {
     "data": {
      "text/plain": [
       "499999999.9999999"
      ]
     },
     "execution_count": 6,
     "metadata": {},
     "output_type": "execute_result"
    }
   ],
   "source": [
    "(100**5 * (1/4 - 1/5))"
   ]
  },
  {
   "cell_type": "code",
   "execution_count": null,
   "id": "92f3594d-ba78-402e-9d84-31677c6600c2",
   "metadata": {},
   "outputs": [],
   "source": []
  }
 ],
 "metadata": {
  "kernelspec": {
   "display_name": "Python 3 (ipykernel)",
   "language": "python",
   "name": "python3"
  },
  "language_info": {
   "codemirror_mode": {
    "name": "ipython",
    "version": 3
   },
   "file_extension": ".py",
   "mimetype": "text/x-python",
   "name": "python",
   "nbconvert_exporter": "python",
   "pygments_lexer": "ipython3",
   "version": "3.12.3"
  }
 },
 "nbformat": 4,
 "nbformat_minor": 5
}
